{
 "cells": [
  {
   "cell_type": "code",
   "execution_count": null,
   "id": "4e2ce026",
   "metadata": {},
   "outputs": [],
   "source": [
    "!pip install tensorflow"
   ]
  },
  {
   "cell_type": "code",
   "execution_count": null,
   "id": "933d53e1",
   "metadata": {},
   "outputs": [],
   "source": [
    "import tensorflow as tf\n",
    "print('Tensorflow: ', tf.__version__)\n",
    "import numpy as np\n",
    "import matplotlib.pyplot as plt"
   ]
  },
  {
   "cell_type": "code",
   "execution_count": null,
   "id": "f3209c28",
   "metadata": {},
   "outputs": [],
   "source": [
    "# 0으로 채워진 3x4 tensor 만들기\n",
    "x = tf.zeros([3, 4], tf.int32)\n",
    "print(x, '\\n')\n",
    "\n",
    "# 1로 채워진 3x4 tensor 만들기\n",
    "x = tf.ones([3, 4], tf.int32)\n",
    "print(x, '\\n')\n",
    "\n",
    "# 상수값으로 채워진 1차원 tensor 만들기\n",
    "x = tf.constant([1, 2.5, 4.6, 5.75, 9.7])\n",
    "print(x, '\\n')\n",
    "\n",
    "# 상수값으로 채워진 2x2 tensor 만들기\n",
    "x = tf.constant((np.arange(16).reshape(4, 4)))\n",
    "print(x, '\\n')\n",
    "\n",
    "# numpy array를 tensor로 변환하기\n",
    "x = tf.convert_to_tensor(np.array([1,2,3]))\n",
    "print(x, '\\n')\n",
    "\n",
    "# tensor를 numpy로 변환하기\n",
    "x = x.numpy()\n",
    "print(x)"
   ]
  },
  {
   "cell_type": "markdown",
   "id": "ccd18207",
   "metadata": {},
   "source": [
    "### 연산하기"
   ]
  },
  {
   "cell_type": "code",
   "execution_count": null,
   "id": "8afd6d86",
   "metadata": {},
   "outputs": [],
   "source": [
    "A = tf.constant([\n",
    "    [4, 3],\n",
    "    [1, 1],\n",
    "], dtype=tf.float32, name='A')\n",
    "\n",
    "B = tf.constant([\n",
    "    [3, 5],\n",
    "    [1, 2],\n",
    "], dtype=tf.float32, name='B')"
   ]
  },
  {
   "cell_type": "code",
   "execution_count": null,
   "id": "2e3d168b",
   "metadata": {},
   "outputs": [],
   "source": [
    "print('A + B =', tf.add(A, B))"
   ]
  },
  {
   "cell_type": "code",
   "execution_count": null,
   "id": "2dc7ccd3",
   "metadata": {},
   "outputs": [],
   "source": [
    "print('A - B =', tf.subtract(A, B))"
   ]
  },
  {
   "cell_type": "code",
   "execution_count": null,
   "id": "acaae261",
   "metadata": {},
   "outputs": [],
   "source": [
    "print('A ⨉ B =', tf.matmul(A, B))"
   ]
  },
  {
   "cell_type": "code",
   "execution_count": null,
   "id": "fe15a742",
   "metadata": {},
   "outputs": [],
   "source": [
    "print('A * B =', tf.multiply(A, B))"
   ]
  },
  {
   "cell_type": "code",
   "execution_count": null,
   "id": "990ec83e",
   "metadata": {},
   "outputs": [],
   "source": [
    "print('A² =', tf.square(A))"
   ]
  },
  {
   "cell_type": "code",
   "execution_count": null,
   "id": "4df9dc93",
   "metadata": {},
   "outputs": [],
   "source": [
    "print('sum(A) =', tf.reduce_sum(A))"
   ]
  },
  {
   "cell_type": "code",
   "execution_count": null,
   "id": "6c1ac0de",
   "metadata": {},
   "outputs": [],
   "source": [
    "print('det(A) =', tf.linalg.det(A))"
   ]
  },
  {
   "cell_type": "code",
   "execution_count": null,
   "id": "2a8c992a",
   "metadata": {},
   "outputs": [],
   "source": [
    "print('inv(A) =', tf.linalg.inv(A))"
   ]
  },
  {
   "cell_type": "code",
   "execution_count": null,
   "id": "541b20e7",
   "metadata": {},
   "outputs": [],
   "source": [
    "print('A ⨉ inv(A) =', tf.matmul(A, tf.linalg.inv(A)))"
   ]
  },
  {
   "cell_type": "markdown",
   "id": "e938d0ba",
   "metadata": {},
   "source": [
    "### Broadcasting"
   ]
  },
  {
   "cell_type": "markdown",
   "id": "fe0e9d43",
   "metadata": {},
   "source": [
    "Broadcasting은 NumPy에서 차용한 개념. 특정 조건에서 더 작은 텐서는 결합된 작업을 실행할 때 더 큰 텐서에 맞게 자동으로 \"늘어남\".\n",
    "\n",
    "가장 간단하고 일반적인 경우는 Scalar에 Tensor를 곱하거나 추가하려고 할 때로, Scalar는 다른 인수와 동일한 모양으로 Broadcasting됨."
   ]
  },
  {
   "cell_type": "code",
   "execution_count": null,
   "id": "599cec59",
   "metadata": {},
   "outputs": [],
   "source": [
    "print('A + 1 = ', tf.add(A, 1))"
   ]
  },
  {
   "cell_type": "markdown",
   "id": "81dbe2c4",
   "metadata": {},
   "source": [
    "### Tensor Shape"
   ]
  },
  {
   "cell_type": "markdown",
   "id": "988ac03c",
   "metadata": {},
   "source": [
    "- **Shape**: The length (number of elements) of each of the axes of a tensor.\n",
    "- **Rank**: Number of tensor axes. A scalar has rank 0, a vector has rank 1, a matrix is rank 2.\n",
    "- **Axis** or **Dimension**: A particular dimension of a tensor.\n",
    "- **Size**: The total number of items in the tensor, the product shape vector."
   ]
  },
  {
   "cell_type": "markdown",
   "id": "f802ba29",
   "metadata": {},
   "source": [
    "<img src=\"https://www.tensorflow.org/guide/images/tensor/shape2.png\" align=\"center\" width=\"400\"/>"
   ]
  },
  {
   "cell_type": "code",
   "execution_count": null,
   "id": "106883e6",
   "metadata": {},
   "outputs": [],
   "source": [
    "rank_4_tensor = tf.zeros([3, 2, 4, 5])\n",
    "rank_4_tensor"
   ]
  },
  {
   "cell_type": "code",
   "execution_count": null,
   "id": "95b5b26d",
   "metadata": {},
   "outputs": [],
   "source": [
    "print(\"Type of every element:\", rank_4_tensor.dtype)"
   ]
  },
  {
   "cell_type": "code",
   "execution_count": null,
   "id": "89ccbae7",
   "metadata": {},
   "outputs": [],
   "source": [
    "print(\"Number of axes:\", rank_4_tensor.ndim)"
   ]
  },
  {
   "cell_type": "code",
   "execution_count": null,
   "id": "75a4c809",
   "metadata": {},
   "outputs": [],
   "source": [
    "print(\"Shape of tensor:\", rank_4_tensor.shape)"
   ]
  },
  {
   "cell_type": "code",
   "execution_count": null,
   "id": "e50ebe7e",
   "metadata": {},
   "outputs": [],
   "source": [
    "print(\"Elements along axis 0 of tensor:\", rank_4_tensor.shape[0])"
   ]
  },
  {
   "cell_type": "code",
   "execution_count": null,
   "id": "1469b95f",
   "metadata": {},
   "outputs": [],
   "source": [
    "print(\"Elements along the last axis of tensor:\", rank_4_tensor.shape[-1])"
   ]
  },
  {
   "cell_type": "code",
   "execution_count": null,
   "id": "78917aa6",
   "metadata": {},
   "outputs": [],
   "source": [
    "print(\"Total number of elements (3*2*4*5): \", tf.size(rank_4_tensor).numpy())"
   ]
  },
  {
   "cell_type": "markdown",
   "id": "850edcab",
   "metadata": {},
   "source": [
    "### Indexing"
   ]
  },
  {
   "cell_type": "code",
   "execution_count": null,
   "id": "49807e28",
   "metadata": {},
   "outputs": [],
   "source": [
    "rank_1_tensor = tf.constant([0, 1, 1, 2, 3, 5, 8, 13, 21, 34])\n",
    "print(rank_1_tensor.numpy())"
   ]
  },
  {
   "cell_type": "code",
   "execution_count": null,
   "id": "cffb514d",
   "metadata": {},
   "outputs": [],
   "source": [
    "print(\"First:\", rank_1_tensor[0].numpy())"
   ]
  },
  {
   "cell_type": "code",
   "execution_count": null,
   "id": "0f8f4b95",
   "metadata": {},
   "outputs": [],
   "source": [
    "print(\"Second:\", rank_1_tensor[1].numpy())"
   ]
  },
  {
   "cell_type": "code",
   "execution_count": null,
   "id": "26d6b79f",
   "metadata": {},
   "outputs": [],
   "source": [
    "print(\"Last:\", rank_1_tensor[-1].numpy())"
   ]
  },
  {
   "cell_type": "code",
   "execution_count": null,
   "id": "47bcdee2",
   "metadata": {},
   "outputs": [],
   "source": [
    "print(\"Everything:\", rank_1_tensor[:].numpy())"
   ]
  },
  {
   "cell_type": "code",
   "execution_count": null,
   "id": "c936c407",
   "metadata": {},
   "outputs": [],
   "source": [
    "print(\"Before 4:\", rank_1_tensor[:4].numpy())"
   ]
  },
  {
   "cell_type": "code",
   "execution_count": null,
   "id": "4e6ef9e0",
   "metadata": {},
   "outputs": [],
   "source": [
    "print(\"From 4 to the end:\", rank_1_tensor[4:].numpy())"
   ]
  },
  {
   "cell_type": "code",
   "execution_count": null,
   "id": "e6105a9d",
   "metadata": {},
   "outputs": [],
   "source": [
    "print(\"From 2, before 7:\", rank_1_tensor[2:7].numpy())"
   ]
  },
  {
   "cell_type": "code",
   "execution_count": null,
   "id": "37087c34",
   "metadata": {},
   "outputs": [],
   "source": [
    "print(\"Every other item:\", rank_1_tensor[::2].numpy())"
   ]
  },
  {
   "cell_type": "code",
   "execution_count": null,
   "id": "c55d1466",
   "metadata": {},
   "outputs": [],
   "source": [
    "print(\"Reversed:\", rank_1_tensor[::-1].numpy())"
   ]
  },
  {
   "cell_type": "markdown",
   "id": "407c334c",
   "metadata": {},
   "source": [
    "### Multi-axis indexing"
   ]
  },
  {
   "cell_type": "code",
   "execution_count": null,
   "id": "14ac58a1",
   "metadata": {},
   "outputs": [],
   "source": [
    "rank_2_tensor = tf.constant([[1, 2],\n",
    "                             [3, 4],\n",
    "                             [5, 6]], dtype=tf.float16)\n",
    "\n",
    "print(rank_2_tensor.numpy())"
   ]
  },
  {
   "cell_type": "code",
   "execution_count": null,
   "id": "ad9462f4",
   "metadata": {},
   "outputs": [],
   "source": [
    "print(rank_2_tensor[1, 1].numpy())"
   ]
  },
  {
   "cell_type": "code",
   "execution_count": null,
   "id": "2a5aae20",
   "metadata": {},
   "outputs": [],
   "source": [
    "print(\"Second row:\", rank_2_tensor[1, :].numpy())\n",
    "print(\"Second column:\", rank_2_tensor[:, 1].numpy())\n",
    "print(\"Last row:\", rank_2_tensor[-1, :].numpy())\n",
    "print(\"First item in last column:\", rank_2_tensor[0, -1].numpy())\n",
    "print(\"Skip the first row:\")\n",
    "print(rank_2_tensor[1:, :].numpy(), \"\\n\")"
   ]
  },
  {
   "cell_type": "code",
   "execution_count": null,
   "id": "b949f080",
   "metadata": {},
   "outputs": [],
   "source": [
    "rank_3_tensor = tf.constant([\n",
    "  [[0, 1, 2, 3, 4],\n",
    "   [5, 6, 7, 8, 9]],\n",
    "  [[10, 11, 12, 13, 14],\n",
    "   [15, 16, 17, 18, 19]],\n",
    "  [[20, 21, 22, 23, 24],\n",
    "   [25, 26, 27, 28, 29]],])\n",
    "\n",
    "print(rank_3_tensor)"
   ]
  },
  {
   "cell_type": "code",
   "execution_count": null,
   "id": "11cc2acb",
   "metadata": {},
   "outputs": [],
   "source": [
    "print(rank_3_tensor[:, :, 4])"
   ]
  },
  {
   "cell_type": "markdown",
   "id": "1bf3b879",
   "metadata": {},
   "source": [
    "### Manipulating Shapes"
   ]
  },
  {
   "cell_type": "code",
   "execution_count": null,
   "id": "32c0085a",
   "metadata": {},
   "outputs": [],
   "source": [
    "x = tf.constant([[1], [2], [3]])\n",
    "print(x.shape)"
   ]
  },
  {
   "cell_type": "code",
   "execution_count": null,
   "id": "53dfdd33",
   "metadata": {},
   "outputs": [],
   "source": [
    "print(x.shape.as_list())"
   ]
  },
  {
   "cell_type": "code",
   "execution_count": null,
   "id": "1718ad74",
   "metadata": {},
   "outputs": [],
   "source": [
    "reshaped = tf.reshape(x, [1, 3])\n",
    "\n",
    "print(x.shape)\n",
    "print(reshaped.shape)"
   ]
  },
  {
   "cell_type": "markdown",
   "id": "448ea5ca",
   "metadata": {},
   "source": [
    "### More on Tensorflow\n",
    "\n",
    "[Official API Documentation](https://www.tensorflow.org/tutorials)"
   ]
  },
  {
   "cell_type": "code",
   "execution_count": null,
   "id": "452340e8",
   "metadata": {},
   "outputs": [],
   "source": []
  }
 ],
 "metadata": {
  "kernelspec": {
   "display_name": "Python 3 (ipykernel)",
   "language": "python",
   "name": "python3"
  },
  "language_info": {
   "codemirror_mode": {
    "name": "ipython",
    "version": 3
   },
   "file_extension": ".py",
   "mimetype": "text/x-python",
   "name": "python",
   "nbconvert_exporter": "python",
   "pygments_lexer": "ipython3",
   "version": "3.7.11"
  }
 },
 "nbformat": 4,
 "nbformat_minor": 5
}
