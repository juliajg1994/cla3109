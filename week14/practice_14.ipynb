{
 "cells": [
  {
   "cell_type": "code",
   "execution_count": null,
   "id": "cc50514a",
   "metadata": {
    "colab": {
     "base_uri": "https://localhost:8080/"
    },
    "id": "cc50514a",
    "outputId": "95049228-2420-470d-850c-b7b6226115d7"
   },
   "outputs": [],
   "source": [
    "# 영화평 스크래핑 패키지\n",
    "!git clone https://github.com/lovit/naver_movie_scraper\n",
    "%cd naver_movie_scraper\n",
    "!python setup.py install\n",
    "import os\n",
    "import sys\n",
    "sys.path.append(os.getcwd())\n",
    "%cd ..\n",
    "\n",
    "# 나눔고딕 설치\n",
    "!apt-get update -qq\n",
    "!apt-get install fonts-nanum* -qq\n",
    "!sudo fc-cache -fv\n",
    "!rm ~/.cache/matplotlib -rf\n",
    "\n",
    "# pororo 설치\n",
    "!pip install pororo"
   ]
  },
  {
   "cell_type": "code",
   "execution_count": null,
   "id": "bN3y3sDJL91I",
   "metadata": {
    "id": "bN3y3sDJL91I"
   },
   "outputs": [],
   "source": [
    "import pandas as pd\n",
    "from naver_movie_scraper import scrap_basic, scrap_bestscripts, scrap_casting, scrap_comments"
   ]
  },
  {
   "cell_type": "code",
   "execution_count": null,
   "id": "d59d79e0",
   "metadata": {
    "colab": {
     "base_uri": "https://localhost:8080/"
    },
    "id": "d59d79e0",
    "outputId": "78d50f83-f5ac-476a-acd7-4529fb5ed7f0"
   },
   "outputs": [],
   "source": [
    "# 기본정보\n",
    "idx = 87309\n",
    "scrap_basic(idx)"
   ]
  },
  {
   "cell_type": "code",
   "execution_count": null,
   "id": "ef2b9645",
   "metadata": {
    "colab": {
     "base_uri": "https://localhost:8080/"
    },
    "id": "ef2b9645",
    "outputId": "b759817a-b9cd-4b3a-eb5d-6340f35a23ce"
   },
   "outputs": [],
   "source": [
    "# 캐스팅 정보\n",
    "scrap_casting(idx)"
   ]
  },
  {
   "cell_type": "code",
   "execution_count": null,
   "id": "5970e262",
   "metadata": {
    "colab": {
     "base_uri": "https://localhost:8080/"
    },
    "id": "5970e262",
    "outputId": "94e3c312-0489-455c-82b6-10cf97dac882"
   },
   "outputs": [],
   "source": [
    "# 명대사\n",
    "scrap_bestscripts(idx, limit=3)"
   ]
  },
  {
   "cell_type": "code",
   "execution_count": null,
   "id": "01021489",
   "metadata": {
    "colab": {
     "base_uri": "https://localhost:8080/"
    },
    "id": "01021489",
    "outputId": "5f0672d2-b79a-439f-99c2-0dbbe66dc824"
   },
   "outputs": [],
   "source": [
    "# 영화평 텍스트\n",
    "scrap_comments(idx, limit=3) # 테스트를 위해 limit =3으로 제한"
   ]
  },
  {
   "cell_type": "code",
   "execution_count": null,
   "id": "aef43ac5",
   "metadata": {
    "id": "aef43ac5"
   },
   "outputs": [],
   "source": [
    "# comments = scrap_comments(idx) # 영화평이 지나치게 많아 미리 다운받은 파일 활용\n",
    "# 판다스 DataFrame 형태로 전환\n",
    "#review = pd.DataFrame(comments)\n",
    "# 중복행 삭제\n",
    "#review = review.drop_duplicates()\n",
    "# 빈칸행 삭제\n",
    "#review = review.dropna()\n",
    "review = pd.read_csv('comments.csv')"
   ]
  },
  {
   "cell_type": "code",
   "execution_count": null,
   "id": "3eff0ec6",
   "metadata": {
    "colab": {
     "base_uri": "https://localhost:8080/"
    },
    "id": "3eff0ec6",
    "outputId": "fd048667-22fe-4ed8-d086-8cc50b64e567"
   },
   "outputs": [],
   "source": [
    "# 평점 분포\n",
    "review['score'].value_counts()"
   ]
  },
  {
   "cell_type": "code",
   "execution_count": null,
   "id": "370139f2",
   "metadata": {
    "colab": {
     "base_uri": "https://localhost:8080/"
    },
    "id": "370139f2",
    "outputId": "ab9ee2e8-021b-477b-ff4b-a9d9003c59d7"
   },
   "outputs": [],
   "source": [
    "# 평점 통계량\n",
    "review['score'].describe()"
   ]
  },
  {
   "cell_type": "code",
   "execution_count": null,
   "id": "6cf57909",
   "metadata": {
    "colab": {
     "base_uri": "https://localhost:8080/",
     "height": 283
    },
    "id": "6cf57909",
    "outputId": "e420c0f1-45e6-465b-b752-4d3936ce34af"
   },
   "outputs": [],
   "source": [
    "# 평점 히스토그램\n",
    "review['score'].hist()"
   ]
  },
  {
   "cell_type": "code",
   "execution_count": null,
   "id": "cbb177d0",
   "metadata": {
    "colab": {
     "base_uri": "https://localhost:8080/"
    },
    "id": "cbb177d0",
    "outputId": "1bdc2790-82ee-4967-b78a-ef45da9e51b5"
   },
   "outputs": [],
   "source": [
    "# 좋아요\n",
    "review['agree'].describe()"
   ]
  },
  {
   "cell_type": "code",
   "execution_count": null,
   "id": "ef44eef1",
   "metadata": {
    "colab": {
     "base_uri": "https://localhost:8080/"
    },
    "id": "ef44eef1",
    "outputId": "206f5548-e231-4bad-954a-765775710c43"
   },
   "outputs": [],
   "source": [
    "# 싫어요\n",
    "review['disagree'].describe()"
   ]
  },
  {
   "cell_type": "code",
   "execution_count": null,
   "id": "746cd0de",
   "metadata": {
    "id": "746cd0de"
   },
   "outputs": [],
   "source": [
    "# 좋아요를 평균 이상 받은 리뷰 텍스트\n",
    "review_agree = review[review['agree']>=review['agree'].mean()]"
   ]
  },
  {
   "cell_type": "markdown",
   "id": "9p65tOn-JUnV",
   "metadata": {
    "id": "9p65tOn-JUnV"
   },
   "source": [
    "#### 감성 분석(Sentiment Analysis) in pororo\n",
    "https://kakaobrain.github.io/pororo/text_cls/sentiment.html"
   ]
  },
  {
   "cell_type": "code",
   "execution_count": null,
   "id": "a1b1f9bb",
   "metadata": {
    "id": "a1b1f9bb"
   },
   "outputs": [],
   "source": [
    "from pororo import Pororo\n",
    "sa = Pororo(task=\"sentiment\", model=\"brainbert.base.ko.shopping\", lang=\"ko\")"
   ]
  },
  {
   "cell_type": "code",
   "execution_count": null,
   "id": "zeQ7GqrtOR5G",
   "metadata": {
    "colab": {
     "base_uri": "https://localhost:8080/"
    },
    "id": "zeQ7GqrtOR5G",
    "outputId": "650064dd-425f-417d-99b1-217758312184"
   },
   "outputs": [],
   "source": [
    "review_agree['sentiment'] = review_agree['text'].apply(lambda x: 1 if sa(x) == 'Positive' else 0)"
   ]
  },
  {
   "cell_type": "code",
   "execution_count": null,
   "id": "NC4FqbuwOYjM",
   "metadata": {
    "colab": {
     "base_uri": "https://localhost:8080/",
     "height": 1069
    },
    "id": "NC4FqbuwOYjM",
    "outputId": "a6a5e854-82d5-4200-9885-8ba7a4125bd6"
   },
   "outputs": [],
   "source": [
    "review_agree"
   ]
  },
  {
   "cell_type": "code",
   "execution_count": null,
   "id": "Xj98EezvWkCo",
   "metadata": {
    "id": "Xj98EezvWkCo"
   },
   "outputs": [],
   "source": []
  }
 ],
 "metadata": {
  "accelerator": "TPU",
  "colab": {
   "background_execution": "on",
   "name": "practice#11.ipynb",
   "provenance": []
  },
  "kernelspec": {
   "display_name": "Python 3 (ipykernel)",
   "language": "python",
   "name": "python3"
  },
  "language_info": {
   "codemirror_mode": {
    "name": "ipython",
    "version": 3
   },
   "file_extension": ".py",
   "mimetype": "text/x-python",
   "name": "python",
   "nbconvert_exporter": "python",
   "pygments_lexer": "ipython3",
   "version": "3.9.12"
  }
 },
 "nbformat": 4,
 "nbformat_minor": 5
}
